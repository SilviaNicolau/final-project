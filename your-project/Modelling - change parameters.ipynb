{
 "cells": [
  {
   "cell_type": "code",
   "execution_count": 1,
   "metadata": {},
   "outputs": [],
   "source": [
    "import pandas as pd\n",
    "import numpy as np\n",
    "from sklearn import preprocessing\n",
    "import matplotlib.pyplot as plt\n",
    "%matplotlib inline\n",
    "import seaborn as sns\n",
    "from sklearn.preprocessing import StandardScaler\n",
    "from sklearn.preprocessing import RobustScaler\n",
    "from sklearn.model_selection import train_test_split\n",
    "from sklearn.linear_model import LogisticRegression\n",
    "from sklearn.metrics import confusion_matrix\n",
    "from sklearn.tree import DecisionTreeClassifier\n",
    "from sklearn.svm import SVC\n",
    "from sklearn.neighbors import KNeighborsClassifier"
   ]
  },
  {
   "cell_type": "code",
   "execution_count": 2,
   "metadata": {},
   "outputs": [],
   "source": [
    "ds = pd.read_csv('organics_stats.csv', index_col=0)"
   ]
  },
  {
   "cell_type": "code",
   "execution_count": 3,
   "metadata": {},
   "outputs": [
    {
     "data": {
      "text/html": [
       "<div>\n",
       "<style scoped>\n",
       "    .dataframe tbody tr th:only-of-type {\n",
       "        vertical-align: middle;\n",
       "    }\n",
       "\n",
       "    .dataframe tbody tr th {\n",
       "        vertical-align: top;\n",
       "    }\n",
       "\n",
       "    .dataframe thead th {\n",
       "        text-align: right;\n",
       "    }\n",
       "</style>\n",
       "<table border=\"1\" class=\"dataframe\">\n",
       "  <thead>\n",
       "    <tr style=\"text-align: right;\">\n",
       "      <th></th>\n",
       "      <th>Gender</th>\n",
       "      <th>Geographic Region</th>\n",
       "      <th>Loyalty Status</th>\n",
       "      <th>Neighborhood Cluster-7 Level</th>\n",
       "      <th>Affluence Grade</th>\n",
       "      <th>Age</th>\n",
       "      <th>Loyalty Card Tenure</th>\n",
       "      <th>Organics Purchase Count</th>\n",
       "      <th>Organics Purchase Indicator</th>\n",
       "      <th>Total Spend</th>\n",
       "    </tr>\n",
       "  </thead>\n",
       "  <tbody>\n",
       "    <tr>\n",
       "      <th>0</th>\n",
       "      <td>0</td>\n",
       "      <td>0</td>\n",
       "      <td>2</td>\n",
       "      <td>3</td>\n",
       "      <td>5</td>\n",
       "      <td>70</td>\n",
       "      <td>8</td>\n",
       "      <td>1</td>\n",
       "      <td>1</td>\n",
       "      <td>0.02</td>\n",
       "    </tr>\n",
       "    <tr>\n",
       "      <th>1</th>\n",
       "      <td>1</td>\n",
       "      <td>0</td>\n",
       "      <td>3</td>\n",
       "      <td>5</td>\n",
       "      <td>10</td>\n",
       "      <td>65</td>\n",
       "      <td>7</td>\n",
       "      <td>1</td>\n",
       "      <td>1</td>\n",
       "      <td>0.01</td>\n",
       "    </tr>\n",
       "    <tr>\n",
       "      <th>2</th>\n",
       "      <td>0</td>\n",
       "      <td>0</td>\n",
       "      <td>3</td>\n",
       "      <td>0</td>\n",
       "      <td>11</td>\n",
       "      <td>68</td>\n",
       "      <td>8</td>\n",
       "      <td>0</td>\n",
       "      <td>0</td>\n",
       "      <td>0.01</td>\n",
       "    </tr>\n",
       "    <tr>\n",
       "      <th>3</th>\n",
       "      <td>0</td>\n",
       "      <td>0</td>\n",
       "      <td>3</td>\n",
       "      <td>0</td>\n",
       "      <td>11</td>\n",
       "      <td>74</td>\n",
       "      <td>8</td>\n",
       "      <td>0</td>\n",
       "      <td>0</td>\n",
       "      <td>0.01</td>\n",
       "    </tr>\n",
       "    <tr>\n",
       "      <th>4</th>\n",
       "      <td>1</td>\n",
       "      <td>1</td>\n",
       "      <td>3</td>\n",
       "      <td>3</td>\n",
       "      <td>13</td>\n",
       "      <td>62</td>\n",
       "      <td>5</td>\n",
       "      <td>0</td>\n",
       "      <td>0</td>\n",
       "      <td>0.01</td>\n",
       "    </tr>\n",
       "  </tbody>\n",
       "</table>\n",
       "</div>"
      ],
      "text/plain": [
       "   Gender  Geographic Region  Loyalty Status  Neighborhood Cluster-7 Level  \\\n",
       "0       0                  0               2                             3   \n",
       "1       1                  0               3                             5   \n",
       "2       0                  0               3                             0   \n",
       "3       0                  0               3                             0   \n",
       "4       1                  1               3                             3   \n",
       "\n",
       "   Affluence Grade  Age  Loyalty Card Tenure  Organics Purchase Count  \\\n",
       "0                5   70                    8                        1   \n",
       "1               10   65                    7                        1   \n",
       "2               11   68                    8                        0   \n",
       "3               11   74                    8                        0   \n",
       "4               13   62                    5                        0   \n",
       "\n",
       "   Organics Purchase Indicator  Total Spend  \n",
       "0                            1         0.02  \n",
       "1                            1         0.01  \n",
       "2                            0         0.01  \n",
       "3                            0         0.01  \n",
       "4                            0         0.01  "
      ]
     },
     "execution_count": 3,
     "metadata": {},
     "output_type": "execute_result"
    }
   ],
   "source": [
    "ds.head()"
   ]
  },
  {
   "cell_type": "markdown",
   "metadata": {},
   "source": [
    "## Classification Models: predict Organics Purchase Indicator"
   ]
  },
  {
   "cell_type": "markdown",
   "metadata": {},
   "source": [
    "#### Scalling Data"
   ]
  },
  {
   "cell_type": "code",
   "execution_count": 4,
   "metadata": {},
   "outputs": [],
   "source": [
    "X = ds.drop(columns=['Organics Purchase Count', 'Organics Purchase Indicator', 'Total Spend'])\n",
    "y = ds['Organics Purchase Indicator']"
   ]
  },
  {
   "cell_type": "code",
   "execution_count": 5,
   "metadata": {},
   "outputs": [],
   "source": [
    "scaler = StandardScaler()\n",
    "X = scaler.fit_transform(X)"
   ]
  },
  {
   "cell_type": "markdown",
   "metadata": {},
   "source": [
    "#### Splitting Data"
   ]
  },
  {
   "cell_type": "code",
   "execution_count": 6,
   "metadata": {},
   "outputs": [],
   "source": [
    "X_train, X_test, y_train, y_test = train_test_split(X, y, test_size = 0.1, random_state=29)"
   ]
  },
  {
   "cell_type": "markdown",
   "metadata": {},
   "source": [
    "#### Support Vector Machine"
   ]
  },
  {
   "cell_type": "code",
   "execution_count": 7,
   "metadata": {},
   "outputs": [
    {
     "name": "stderr",
     "output_type": "stream",
     "text": [
      "C:\\Users\\nicol\\Anaconda3\\lib\\site-packages\\sklearn\\svm\\base.py:193: FutureWarning: The default value of gamma will change from 'auto' to 'scale' in version 0.22 to account better for unscaled features. Set gamma explicitly to 'auto' or 'scale' to avoid this warning.\n",
      "  \"avoid this warning.\", FutureWarning)\n"
     ]
    },
    {
     "name": "stdout",
     "output_type": "stream",
     "text": [
      "degree = 1\n",
      "Accuracy: 78.7248322147651\n",
      "Precision: 80.0\n",
      "Recall: 36.61327231121281\n",
      "F1: 50.23547880690737\n"
     ]
    },
    {
     "name": "stderr",
     "output_type": "stream",
     "text": [
      "C:\\Users\\nicol\\Anaconda3\\lib\\site-packages\\sklearn\\svm\\base.py:193: FutureWarning: The default value of gamma will change from 'auto' to 'scale' in version 0.22 to account better for unscaled features. Set gamma explicitly to 'auto' or 'scale' to avoid this warning.\n",
      "  \"avoid this warning.\", FutureWarning)\n"
     ]
    },
    {
     "name": "stdout",
     "output_type": "stream",
     "text": [
      "degree = 5\n",
      "Accuracy: 78.7248322147651\n",
      "Precision: 80.0\n",
      "Recall: 36.61327231121281\n",
      "F1: 50.23547880690737\n"
     ]
    },
    {
     "name": "stderr",
     "output_type": "stream",
     "text": [
      "C:\\Users\\nicol\\Anaconda3\\lib\\site-packages\\sklearn\\svm\\base.py:193: FutureWarning: The default value of gamma will change from 'auto' to 'scale' in version 0.22 to account better for unscaled features. Set gamma explicitly to 'auto' or 'scale' to avoid this warning.\n",
      "  \"avoid this warning.\", FutureWarning)\n"
     ]
    },
    {
     "name": "stdout",
     "output_type": "stream",
     "text": [
      "degree = 10\n",
      "Accuracy: 78.7248322147651\n",
      "Precision: 80.0\n",
      "Recall: 36.61327231121281\n",
      "F1: 50.23547880690737\n"
     ]
    },
    {
     "name": "stderr",
     "output_type": "stream",
     "text": [
      "C:\\Users\\nicol\\Anaconda3\\lib\\site-packages\\sklearn\\svm\\base.py:193: FutureWarning: The default value of gamma will change from 'auto' to 'scale' in version 0.22 to account better for unscaled features. Set gamma explicitly to 'auto' or 'scale' to avoid this warning.\n",
      "  \"avoid this warning.\", FutureWarning)\n"
     ]
    },
    {
     "name": "stdout",
     "output_type": "stream",
     "text": [
      "degree = 20\n",
      "Accuracy: 78.7248322147651\n",
      "Precision: 80.0\n",
      "Recall: 36.61327231121281\n",
      "F1: 50.23547880690737\n"
     ]
    }
   ],
   "source": [
    "degrees = [1,5,10,20] # the default was 3\n",
    "\n",
    "for d in degrees:\n",
    "    svm = SVC(degree=d)\n",
    "    svm.fit(X_train, y_train)\n",
    "    y_pred = svm.predict(X_test)\n",
    "    tn, fp, fn, tp = confusion_matrix(y_test, y_pred).ravel()\n",
    "    print('degree =', d)\n",
    "    print('Accuracy:', svm.score(X_test, y_test)*100),\n",
    "    print('Precision:', tp/(tp+fp)*100),\n",
    "    print('Recall:', tp/(tp+fn)*100)\n",
    "    print('F1:', 2*((tp/(tp+fp))*(tp/(tp+fn)))/((tp/(tp+fp))+(tp/(tp+fn)))*100)"
   ]
  },
  {
   "cell_type": "markdown",
   "metadata": {},
   "source": [
    "#### K-Nearest Neighbour"
   ]
  },
  {
   "cell_type": "code",
   "execution_count": 8,
   "metadata": {},
   "outputs": [
    {
     "name": "stdout",
     "output_type": "stream",
     "text": [
      "n_neighbors = 1\n",
      "Accuracy: 78.7248322147651\n",
      "Precision: 49.187935034802784\n",
      "Recall: 48.51258581235698\n",
      "F1: 48.8479262672811\n",
      "\n",
      "\n",
      "n_neighbors = 2\n",
      "Accuracy: 78.7248322147651\n",
      "Precision: 63.23529411764706\n",
      "Recall: 29.51945080091533\n",
      "F1: 40.24960998439937\n",
      "\n",
      "\n",
      "n_neighbors = 3\n",
      "Accuracy: 78.7248322147651\n",
      "Precision: 58.92857142857143\n",
      "Recall: 45.30892448512586\n",
      "F1: 51.228978007761974\n",
      "\n",
      "\n",
      "n_neighbors = 4\n",
      "Accuracy: 78.7248322147651\n",
      "Precision: 68.14159292035397\n",
      "Recall: 35.24027459954233\n",
      "F1: 46.45550527903469\n",
      "\n",
      "\n",
      "n_neighbors = 5\n",
      "Accuracy: 78.7248322147651\n",
      "Precision: 63.793103448275865\n",
      "Recall: 42.33409610983982\n",
      "F1: 50.894085281980736\n",
      "\n",
      "\n",
      "n_neighbors = 6\n",
      "Accuracy: 78.7248322147651\n",
      "Precision: 69.68325791855203\n",
      "Recall: 35.24027459954233\n",
      "F1: 46.80851063829787\n",
      "\n",
      "\n",
      "n_neighbors = 7\n",
      "Accuracy: 78.7248322147651\n",
      "Precision: 65.48042704626334\n",
      "Recall: 42.10526315789473\n",
      "F1: 51.25348189415041\n",
      "\n",
      "\n",
      "n_neighbors = 8\n",
      "Accuracy: 78.7248322147651\n",
      "Precision: 68.14159292035397\n",
      "Recall: 35.24027459954233\n",
      "F1: 46.45550527903469\n",
      "\n",
      "\n",
      "n_neighbors = 9\n",
      "Accuracy: 78.7248322147651\n",
      "Precision: 66.66666666666666\n",
      "Recall: 40.73226544622426\n",
      "F1: 50.56818181818181\n",
      "\n",
      "\n",
      "n_neighbors = 10\n",
      "Accuracy: 78.7248322147651\n",
      "Precision: 70.53571428571429\n",
      "Recall: 36.15560640732266\n",
      "F1: 47.80635400907716\n",
      "\n",
      "\n",
      "n_neighbors = 15\n",
      "Accuracy: 78.7248322147651\n",
      "Precision: 70.8502024291498\n",
      "Recall: 40.045766590389015\n",
      "F1: 51.16959064327485\n",
      "\n",
      "\n",
      "n_neighbors = 20\n",
      "Accuracy: 78.7248322147651\n",
      "Precision: 74.44933920704845\n",
      "Recall: 38.672768878718536\n",
      "F1: 50.903614457831324\n",
      "\n",
      "\n"
     ]
    }
   ],
   "source": [
    "neighbors = [1,2,3,4,5,6,7,8,9,10,15,20] # the default was 5\n",
    "\n",
    "for n in neighbors:\n",
    "    knn = KNeighborsClassifier(n_neighbors=n)\n",
    "    knn.fit(X_train, y_train)\n",
    "    y_pred = knn.predict(X_test)\n",
    "    tn, fp, fn, tp = confusion_matrix(y_test, y_pred).ravel()\n",
    "    print('n_neighbors =',n)\n",
    "    print('Accuracy:', svm.score(X_test, y_test)*100),\n",
    "    print('Precision:', tp/(tp+fp)*100),\n",
    "    print('Recall:', tp/(tp+fn)*100)\n",
    "    print('F1:', 2*((tp/(tp+fp))*(tp/(tp+fn)))/((tp/(tp+fp))+(tp/(tp+fn)))*100)\n",
    "    print('\\n')"
   ]
  },
  {
   "cell_type": "code",
   "execution_count": null,
   "metadata": {},
   "outputs": [],
   "source": []
  }
 ],
 "metadata": {
  "kernelspec": {
   "display_name": "Python 3",
   "language": "python",
   "name": "python3"
  },
  "language_info": {
   "codemirror_mode": {
    "name": "ipython",
    "version": 3
   },
   "file_extension": ".py",
   "mimetype": "text/x-python",
   "name": "python",
   "nbconvert_exporter": "python",
   "pygments_lexer": "ipython3",
   "version": "3.7.4"
  }
 },
 "nbformat": 4,
 "nbformat_minor": 2
}
