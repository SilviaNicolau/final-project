{
 "cells": [
  {
   "cell_type": "code",
   "execution_count": 1,
   "metadata": {},
   "outputs": [],
   "source": [
    "import pandas as pd\n",
    "import numpy as np\n",
    "from sklearn import preprocessing\n",
    "import matplotlib.pyplot as plt\n",
    "%matplotlib inline\n",
    "import seaborn as sns"
   ]
  },
  {
   "cell_type": "code",
   "execution_count": 2,
   "metadata": {},
   "outputs": [],
   "source": [
    "ds = pd.read_csv('organics.csv')"
   ]
  },
  {
   "cell_type": "code",
   "execution_count": 3,
   "metadata": {},
   "outputs": [
    {
     "data": {
      "text/html": [
       "<div>\n",
       "<style scoped>\n",
       "    .dataframe tbody tr th:only-of-type {\n",
       "        vertical-align: middle;\n",
       "    }\n",
       "\n",
       "    .dataframe tbody tr th {\n",
       "        vertical-align: top;\n",
       "    }\n",
       "\n",
       "    .dataframe thead th {\n",
       "        text-align: right;\n",
       "    }\n",
       "</style>\n",
       "<table border=\"1\" class=\"dataframe\">\n",
       "  <thead>\n",
       "    <tr style=\"text-align: right;\">\n",
       "      <th></th>\n",
       "      <th>Customer Loyalty ID</th>\n",
       "      <th>Gender</th>\n",
       "      <th>Geographic Region</th>\n",
       "      <th>Loyalty Status</th>\n",
       "      <th>Neigborhood Cluster-55 Level</th>\n",
       "      <th>Neighborhood Cluster-7 Level</th>\n",
       "      <th>Television Region</th>\n",
       "      <th>Affluence Grade</th>\n",
       "      <th>Age</th>\n",
       "      <th>Frequency</th>\n",
       "      <th>Frequency Percent</th>\n",
       "      <th>Loyalty Card Tenure</th>\n",
       "      <th>Organics Purchase Count</th>\n",
       "      <th>Organics Purchase Indicator</th>\n",
       "      <th>Total Spend</th>\n",
       "    </tr>\n",
       "  </thead>\n",
       "  <tbody>\n",
       "    <tr>\n",
       "      <th>0</th>\n",
       "      <td>140</td>\n",
       "      <td>U</td>\n",
       "      <td>Midlands</td>\n",
       "      <td>Gold</td>\n",
       "      <td>16.0</td>\n",
       "      <td>C</td>\n",
       "      <td>Wales &amp; West</td>\n",
       "      <td>10</td>\n",
       "      <td>76</td>\n",
       "      <td>1</td>\n",
       "      <td>0.00%</td>\n",
       "      <td>4</td>\n",
       "      <td>0</td>\n",
       "      <td>0</td>\n",
       "      <td>16000.00</td>\n",
       "    </tr>\n",
       "    <tr>\n",
       "      <th>1</th>\n",
       "      <td>620</td>\n",
       "      <td>U</td>\n",
       "      <td>Midlands</td>\n",
       "      <td>Gold</td>\n",
       "      <td>35.0</td>\n",
       "      <td>D</td>\n",
       "      <td>Wales &amp; West</td>\n",
       "      <td>4</td>\n",
       "      <td>49</td>\n",
       "      <td>1</td>\n",
       "      <td>0.00%</td>\n",
       "      <td>5</td>\n",
       "      <td>0</td>\n",
       "      <td>0</td>\n",
       "      <td>6000.00</td>\n",
       "    </tr>\n",
       "    <tr>\n",
       "      <th>2</th>\n",
       "      <td>868</td>\n",
       "      <td>F</td>\n",
       "      <td>Midlands</td>\n",
       "      <td>Silver</td>\n",
       "      <td>27.0</td>\n",
       "      <td>D</td>\n",
       "      <td>Wales &amp; West</td>\n",
       "      <td>5</td>\n",
       "      <td>70</td>\n",
       "      <td>1</td>\n",
       "      <td>0.00%</td>\n",
       "      <td>8</td>\n",
       "      <td>1</td>\n",
       "      <td>1</td>\n",
       "      <td>0.02</td>\n",
       "    </tr>\n",
       "    <tr>\n",
       "      <th>3</th>\n",
       "      <td>1120</td>\n",
       "      <td>M</td>\n",
       "      <td>Midlands</td>\n",
       "      <td>Tin</td>\n",
       "      <td>51.0</td>\n",
       "      <td>F</td>\n",
       "      <td>Midlands</td>\n",
       "      <td>10</td>\n",
       "      <td>65</td>\n",
       "      <td>1</td>\n",
       "      <td>0.00%</td>\n",
       "      <td>7</td>\n",
       "      <td>1</td>\n",
       "      <td>1</td>\n",
       "      <td>0.01</td>\n",
       "    </tr>\n",
       "    <tr>\n",
       "      <th>4</th>\n",
       "      <td>2313</td>\n",
       "      <td>F</td>\n",
       "      <td>Midlands</td>\n",
       "      <td>Tin</td>\n",
       "      <td>4.0</td>\n",
       "      <td>A</td>\n",
       "      <td>Midlands</td>\n",
       "      <td>11</td>\n",
       "      <td>68</td>\n",
       "      <td>1</td>\n",
       "      <td>0.00%</td>\n",
       "      <td>8</td>\n",
       "      <td>0</td>\n",
       "      <td>0</td>\n",
       "      <td>0.01</td>\n",
       "    </tr>\n",
       "  </tbody>\n",
       "</table>\n",
       "</div>"
      ],
      "text/plain": [
       "   Customer Loyalty ID Gender Geographic Region Loyalty Status  \\\n",
       "0                  140      U          Midlands           Gold   \n",
       "1                  620      U          Midlands           Gold   \n",
       "2                  868      F          Midlands         Silver   \n",
       "3                 1120      M          Midlands            Tin   \n",
       "4                 2313      F          Midlands            Tin   \n",
       "\n",
       "   Neigborhood Cluster-55 Level Neighborhood Cluster-7 Level  \\\n",
       "0                          16.0                            C   \n",
       "1                          35.0                            D   \n",
       "2                          27.0                            D   \n",
       "3                          51.0                            F   \n",
       "4                           4.0                            A   \n",
       "\n",
       "  Television Region Affluence Grade Age  Frequency Frequency Percent  \\\n",
       "0      Wales & West              10  76          1             0.00%   \n",
       "1      Wales & West               4  49          1             0.00%   \n",
       "2      Wales & West               5  70          1             0.00%   \n",
       "3          Midlands              10  65          1             0.00%   \n",
       "4          Midlands              11  68          1             0.00%   \n",
       "\n",
       "  Loyalty Card Tenure  Organics Purchase Count  Organics Purchase Indicator  \\\n",
       "0                   4                        0                            0   \n",
       "1                   5                        0                            0   \n",
       "2                   8                        1                            1   \n",
       "3                   7                        1                            1   \n",
       "4                   8                        0                            0   \n",
       "\n",
       "   Total Spend  \n",
       "0     16000.00  \n",
       "1      6000.00  \n",
       "2         0.02  \n",
       "3         0.01  \n",
       "4         0.01  "
      ]
     },
     "execution_count": 3,
     "metadata": {},
     "output_type": "execute_result"
    }
   ],
   "source": [
    "ds.head()"
   ]
  },
  {
   "cell_type": "code",
   "execution_count": 4,
   "metadata": {},
   "outputs": [
    {
     "data": {
      "text/plain": [
       "(22223, 15)"
      ]
     },
     "execution_count": 4,
     "metadata": {},
     "output_type": "execute_result"
    }
   ],
   "source": [
    "ds.shape"
   ]
  },
  {
   "cell_type": "code",
   "execution_count": 5,
   "metadata": {},
   "outputs": [
    {
     "name": "stdout",
     "output_type": "stream",
     "text": [
      "<class 'pandas.core.frame.DataFrame'>\n",
      "RangeIndex: 22223 entries, 0 to 22222\n",
      "Data columns (total 15 columns):\n",
      "Customer Loyalty ID             22223 non-null int64\n",
      "Gender                          19711 non-null object\n",
      "Geographic Region               21758 non-null object\n",
      "Loyalty Status                  22223 non-null object\n",
      "Neigborhood Cluster-55 Level    21549 non-null float64\n",
      "Neighborhood Cluster-7 Level    21549 non-null object\n",
      "Television Region               21758 non-null object\n",
      "Affluence Grade                 22223 non-null object\n",
      "Age                             22223 non-null object\n",
      "Frequency                       22223 non-null int64\n",
      "Frequency Percent               22223 non-null object\n",
      "Loyalty Card Tenure             22223 non-null object\n",
      "Organics Purchase Count         22223 non-null int64\n",
      "Organics Purchase Indicator     22223 non-null int64\n",
      "Total Spend                     22223 non-null float64\n",
      "dtypes: float64(2), int64(4), object(9)\n",
      "memory usage: 2.5+ MB\n"
     ]
    }
   ],
   "source": [
    "ds.info()"
   ]
  },
  {
   "cell_type": "code",
   "execution_count": 6,
   "metadata": {},
   "outputs": [
    {
     "data": {
      "text/plain": [
       "22223"
      ]
     },
     "execution_count": 6,
     "metadata": {},
     "output_type": "execute_result"
    }
   ],
   "source": [
    "ds['Customer Loyalty ID'].nunique()"
   ]
  },
  {
   "cell_type": "code",
   "execution_count": 7,
   "metadata": {},
   "outputs": [],
   "source": [
    "ds.drop(columns='Customer Loyalty ID', inplace=True)"
   ]
  },
  {
   "cell_type": "code",
   "execution_count": 8,
   "metadata": {},
   "outputs": [
    {
     "data": {
      "text/plain": [
       "(22223, 14)"
      ]
     },
     "execution_count": 8,
     "metadata": {},
     "output_type": "execute_result"
    }
   ],
   "source": [
    "ds.shape"
   ]
  },
  {
   "cell_type": "markdown",
   "metadata": {},
   "source": [
    "#### The 'Customer Loyalty ID' column has only unique values that identify the customers and it's not relevant for the analysis, so I've dropped it."
   ]
  },
  {
   "cell_type": "code",
   "execution_count": 9,
   "metadata": {},
   "outputs": [
    {
     "data": {
      "text/plain": [
       "F    12149\n",
       "M     5815\n",
       "U     1747\n",
       "Name: Gender, dtype: int64"
      ]
     },
     "execution_count": 9,
     "metadata": {},
     "output_type": "execute_result"
    }
   ],
   "source": [
    "ds['Gender'].value_counts()"
   ]
  },
  {
   "cell_type": "code",
   "execution_count": 10,
   "metadata": {},
   "outputs": [
    {
     "data": {
      "text/plain": [
       "80.83517076902308"
      ]
     },
     "execution_count": 10,
     "metadata": {},
     "output_type": "execute_result"
    }
   ],
   "source": [
    "ds[(ds['Gender'] == 'F') | (ds['Gender'] == 'M')].shape[0] / ds.shape[0] * 100"
   ]
  },
  {
   "cell_type": "code",
   "execution_count": 11,
   "metadata": {},
   "outputs": [],
   "source": [
    "ds = ds[(ds['Gender'] == 'F') | (ds['Gender'] == 'M')]"
   ]
  },
  {
   "cell_type": "code",
   "execution_count": 12,
   "metadata": {},
   "outputs": [
    {
     "data": {
      "text/plain": [
       "(17964, 14)"
      ]
     },
     "execution_count": 12,
     "metadata": {},
     "output_type": "execute_result"
    }
   ],
   "source": [
    "ds.shape"
   ]
  },
  {
   "cell_type": "code",
   "execution_count": 13,
   "metadata": {},
   "outputs": [],
   "source": [
    "le = preprocessing.LabelEncoder()\n",
    "ds['Gender'] = le.fit_transform(ds['Gender'])"
   ]
  },
  {
   "cell_type": "code",
   "execution_count": 14,
   "metadata": {},
   "outputs": [
    {
     "data": {
      "text/plain": [
       "0    12149\n",
       "1     5815\n",
       "Name: Gender, dtype: int64"
      ]
     },
     "execution_count": 14,
     "metadata": {},
     "output_type": "execute_result"
    }
   ],
   "source": [
    "ds['Gender'].value_counts()"
   ]
  },
  {
   "cell_type": "markdown",
   "metadata": {},
   "source": [
    "#### The 'Gender' column has about 20% of non-useful data (unknow and null), but as this column is important for the analysis I've kept only the useful rows. Then I've converted the categorical data into numeric."
   ]
  },
  {
   "cell_type": "code",
   "execution_count": 15,
   "metadata": {},
   "outputs": [
    {
     "data": {
      "text/plain": [
       "Gender                            0\n",
       "Geographic Region               379\n",
       "Loyalty Status                    0\n",
       "Neigborhood Cluster-55 Level    564\n",
       "Neighborhood Cluster-7 Level    564\n",
       "Television Region               379\n",
       "Affluence Grade                   0\n",
       "Age                               0\n",
       "Frequency                         0\n",
       "Frequency Percent                 0\n",
       "Loyalty Card Tenure               0\n",
       "Organics Purchase Count           0\n",
       "Organics Purchase Indicator       0\n",
       "Total Spend                       0\n",
       "dtype: int64"
      ]
     },
     "execution_count": 15,
     "metadata": {},
     "output_type": "execute_result"
    }
   ],
   "source": [
    "ds.isna().sum()"
   ]
  },
  {
   "cell_type": "code",
   "execution_count": 16,
   "metadata": {},
   "outputs": [
    {
     "data": {
      "text/plain": [
       "South East    6976\n",
       "Midlands      5426\n",
       "North         3517\n",
       "Scottish      1107\n",
       "South West     559\n",
       "Name: Geographic Region, dtype: int64"
      ]
     },
     "execution_count": 16,
     "metadata": {},
     "output_type": "execute_result"
    }
   ],
   "source": [
    "ds['Geographic Region'].value_counts()"
   ]
  },
  {
   "cell_type": "code",
   "execution_count": 17,
   "metadata": {},
   "outputs": [
    {
     "data": {
      "text/plain": [
       "2.1097751057670897"
      ]
     },
     "execution_count": 17,
     "metadata": {},
     "output_type": "execute_result"
    }
   ],
   "source": [
    "ds[ds['Geographic Region'].isna()].shape[0] / ds.shape[0] * 100"
   ]
  },
  {
   "cell_type": "code",
   "execution_count": 18,
   "metadata": {},
   "outputs": [],
   "source": [
    "ds = ds[ds['Geographic Region'].notna()]"
   ]
  },
  {
   "cell_type": "code",
   "execution_count": 19,
   "metadata": {},
   "outputs": [
    {
     "data": {
      "text/plain": [
       "(17585, 14)"
      ]
     },
     "execution_count": 19,
     "metadata": {},
     "output_type": "execute_result"
    }
   ],
   "source": [
    "ds.shape"
   ]
  },
  {
   "cell_type": "code",
   "execution_count": 20,
   "metadata": {},
   "outputs": [
    {
     "data": {
      "text/plain": [
       "London          4976\n",
       "Midlands        2527\n",
       "S & S East      2000\n",
       "N West          1701\n",
       "Wales & West    1370\n",
       "East            1311\n",
       "Yorkshire       1186\n",
       "C Scotland       675\n",
       "N East           630\n",
       "S West           559\n",
       "N Scot           270\n",
       "Ulster           218\n",
       "Border           162\n",
       "Name: Television Region, dtype: int64"
      ]
     },
     "execution_count": 20,
     "metadata": {},
     "output_type": "execute_result"
    }
   ],
   "source": [
    "ds['Television Region'].value_counts()"
   ]
  },
  {
   "cell_type": "code",
   "execution_count": 21,
   "metadata": {},
   "outputs": [
    {
     "data": {
      "text/html": [
       "<div>\n",
       "<style scoped>\n",
       "    .dataframe tbody tr th:only-of-type {\n",
       "        vertical-align: middle;\n",
       "    }\n",
       "\n",
       "    .dataframe tbody tr th {\n",
       "        vertical-align: top;\n",
       "    }\n",
       "\n",
       "    .dataframe thead th {\n",
       "        text-align: right;\n",
       "    }\n",
       "</style>\n",
       "<table border=\"1\" class=\"dataframe\">\n",
       "  <thead>\n",
       "    <tr style=\"text-align: right;\">\n",
       "      <th>Television Region</th>\n",
       "      <th>Border</th>\n",
       "      <th>C Scotland</th>\n",
       "      <th>East</th>\n",
       "      <th>London</th>\n",
       "      <th>Midlands</th>\n",
       "      <th>N East</th>\n",
       "      <th>N Scot</th>\n",
       "      <th>N West</th>\n",
       "      <th>S &amp; S East</th>\n",
       "      <th>S West</th>\n",
       "      <th>Ulster</th>\n",
       "      <th>Wales &amp; West</th>\n",
       "      <th>Yorkshire</th>\n",
       "    </tr>\n",
       "    <tr>\n",
       "      <th>Geographic Region</th>\n",
       "      <th></th>\n",
       "      <th></th>\n",
       "      <th></th>\n",
       "      <th></th>\n",
       "      <th></th>\n",
       "      <th></th>\n",
       "      <th></th>\n",
       "      <th></th>\n",
       "      <th></th>\n",
       "      <th></th>\n",
       "      <th></th>\n",
       "      <th></th>\n",
       "      <th></th>\n",
       "    </tr>\n",
       "  </thead>\n",
       "  <tbody>\n",
       "    <tr>\n",
       "      <th>Midlands</th>\n",
       "      <td>0</td>\n",
       "      <td>0</td>\n",
       "      <td>1311</td>\n",
       "      <td>0</td>\n",
       "      <td>2527</td>\n",
       "      <td>0</td>\n",
       "      <td>0</td>\n",
       "      <td>0</td>\n",
       "      <td>0</td>\n",
       "      <td>0</td>\n",
       "      <td>218</td>\n",
       "      <td>1370</td>\n",
       "      <td>0</td>\n",
       "    </tr>\n",
       "    <tr>\n",
       "      <th>North</th>\n",
       "      <td>0</td>\n",
       "      <td>0</td>\n",
       "      <td>0</td>\n",
       "      <td>0</td>\n",
       "      <td>0</td>\n",
       "      <td>630</td>\n",
       "      <td>0</td>\n",
       "      <td>1701</td>\n",
       "      <td>0</td>\n",
       "      <td>0</td>\n",
       "      <td>0</td>\n",
       "      <td>0</td>\n",
       "      <td>1186</td>\n",
       "    </tr>\n",
       "    <tr>\n",
       "      <th>Scottish</th>\n",
       "      <td>162</td>\n",
       "      <td>675</td>\n",
       "      <td>0</td>\n",
       "      <td>0</td>\n",
       "      <td>0</td>\n",
       "      <td>0</td>\n",
       "      <td>270</td>\n",
       "      <td>0</td>\n",
       "      <td>0</td>\n",
       "      <td>0</td>\n",
       "      <td>0</td>\n",
       "      <td>0</td>\n",
       "      <td>0</td>\n",
       "    </tr>\n",
       "    <tr>\n",
       "      <th>South East</th>\n",
       "      <td>0</td>\n",
       "      <td>0</td>\n",
       "      <td>0</td>\n",
       "      <td>4976</td>\n",
       "      <td>0</td>\n",
       "      <td>0</td>\n",
       "      <td>0</td>\n",
       "      <td>0</td>\n",
       "      <td>2000</td>\n",
       "      <td>0</td>\n",
       "      <td>0</td>\n",
       "      <td>0</td>\n",
       "      <td>0</td>\n",
       "    </tr>\n",
       "    <tr>\n",
       "      <th>South West</th>\n",
       "      <td>0</td>\n",
       "      <td>0</td>\n",
       "      <td>0</td>\n",
       "      <td>0</td>\n",
       "      <td>0</td>\n",
       "      <td>0</td>\n",
       "      <td>0</td>\n",
       "      <td>0</td>\n",
       "      <td>0</td>\n",
       "      <td>559</td>\n",
       "      <td>0</td>\n",
       "      <td>0</td>\n",
       "      <td>0</td>\n",
       "    </tr>\n",
       "  </tbody>\n",
       "</table>\n",
       "</div>"
      ],
      "text/plain": [
       "Television Region  Border  C Scotland  East  London  Midlands  N East  N Scot  \\\n",
       "Geographic Region                                                               \n",
       "Midlands                0           0  1311       0      2527       0       0   \n",
       "North                   0           0     0       0         0     630       0   \n",
       "Scottish              162         675     0       0         0       0     270   \n",
       "South East              0           0     0    4976         0       0       0   \n",
       "South West              0           0     0       0         0       0       0   \n",
       "\n",
       "Television Region  N West  S & S East  S West  Ulster  Wales & West  Yorkshire  \n",
       "Geographic Region                                                               \n",
       "Midlands                0           0       0     218          1370          0  \n",
       "North                1701           0       0       0             0       1186  \n",
       "Scottish                0           0       0       0             0          0  \n",
       "South East              0        2000       0       0             0          0  \n",
       "South West              0           0     559       0             0          0  "
      ]
     },
     "execution_count": 21,
     "metadata": {},
     "output_type": "execute_result"
    }
   ],
   "source": [
    "pd.crosstab(ds['Geographic Region'], ds['Television Region'])"
   ]
  },
  {
   "cell_type": "code",
   "execution_count": 22,
   "metadata": {},
   "outputs": [],
   "source": [
    "ds.drop(columns='Television Region', inplace=True)"
   ]
  },
  {
   "cell_type": "code",
   "execution_count": 23,
   "metadata": {},
   "outputs": [
    {
     "data": {
      "text/plain": [
       "(17585, 13)"
      ]
     },
     "execution_count": 23,
     "metadata": {},
     "output_type": "execute_result"
    }
   ],
   "source": [
    "ds.shape"
   ]
  },
  {
   "cell_type": "code",
   "execution_count": 24,
   "metadata": {},
   "outputs": [],
   "source": [
    "le = preprocessing.LabelEncoder()\n",
    "ds['Geographic Region'] = le.fit_transform(ds['Geographic Region'])"
   ]
  },
  {
   "cell_type": "code",
   "execution_count": 25,
   "metadata": {},
   "outputs": [
    {
     "data": {
      "text/plain": [
       "3    6976\n",
       "0    5426\n",
       "1    3517\n",
       "2    1107\n",
       "4     559\n",
       "Name: Geographic Region, dtype: int64"
      ]
     },
     "execution_count": 25,
     "metadata": {},
     "output_type": "execute_result"
    }
   ],
   "source": [
    "ds['Geographic Region'].value_counts()"
   ]
  },
  {
   "cell_type": "markdown",
   "metadata": {},
   "source": [
    "#### On the 'Geographic Region' column I've removed the nulls (about 2% of the data). Then I've checked the relation with the column 'Television Region' and conclude that the Tv is a sub-group of Geo, there is no new info only more granularity on the regions. So for the purpose of this analysis I've decided to drop the Tv column. Finally on the 'Geographic Region' I've converted the categorical data into numeric."
   ]
  },
  {
   "cell_type": "code",
   "execution_count": 26,
   "metadata": {},
   "outputs": [
    {
     "data": {
      "text/plain": [
       "Gender                            0\n",
       "Geographic Region                 0\n",
       "Loyalty Status                    0\n",
       "Neigborhood Cluster-55 Level    553\n",
       "Neighborhood Cluster-7 Level    553\n",
       "Affluence Grade                   0\n",
       "Age                               0\n",
       "Frequency                         0\n",
       "Frequency Percent                 0\n",
       "Loyalty Card Tenure               0\n",
       "Organics Purchase Count           0\n",
       "Organics Purchase Indicator       0\n",
       "Total Spend                       0\n",
       "dtype: int64"
      ]
     },
     "execution_count": 26,
     "metadata": {},
     "output_type": "execute_result"
    }
   ],
   "source": [
    "ds.isna().sum()"
   ]
  },
  {
   "cell_type": "code",
   "execution_count": 27,
   "metadata": {},
   "outputs": [
    {
     "data": {
      "text/plain": [
       "Silver      6754\n",
       "Tin         5243\n",
       "Gold        4929\n",
       "Platinum     659\n",
       "Name: Loyalty Status, dtype: int64"
      ]
     },
     "execution_count": 27,
     "metadata": {},
     "output_type": "execute_result"
    }
   ],
   "source": [
    "ds['Loyalty Status'].value_counts()"
   ]
  },
  {
   "cell_type": "code",
   "execution_count": 28,
   "metadata": {},
   "outputs": [],
   "source": [
    "le = preprocessing.LabelEncoder()\n",
    "ds['Loyalty Status'] = le.fit_transform(ds['Loyalty Status'])"
   ]
  },
  {
   "cell_type": "code",
   "execution_count": 29,
   "metadata": {},
   "outputs": [
    {
     "data": {
      "text/plain": [
       "2    6754\n",
       "3    5243\n",
       "0    4929\n",
       "1     659\n",
       "Name: Loyalty Status, dtype: int64"
      ]
     },
     "execution_count": 29,
     "metadata": {},
     "output_type": "execute_result"
    }
   ],
   "source": [
    "ds['Loyalty Status'].value_counts()"
   ]
  },
  {
   "cell_type": "markdown",
   "metadata": {},
   "source": [
    "#### On the 'Loyalty Status' column I've converted the categorical data into numeric."
   ]
  },
  {
   "cell_type": "code",
   "execution_count": 30,
   "metadata": {},
   "outputs": [
    {
     "data": {
      "text/plain": [
       "count    17032.000000\n",
       "mean        27.311179\n",
       "std         15.727897\n",
       "min          1.000000\n",
       "25%         14.000000\n",
       "50%         27.000000\n",
       "75%         39.000000\n",
       "max         55.000000\n",
       "Name: Neigborhood Cluster-55 Level, dtype: float64"
      ]
     },
     "execution_count": 30,
     "metadata": {},
     "output_type": "execute_result"
    }
   ],
   "source": [
    "ds['Neigborhood Cluster-55 Level'].describe()"
   ]
  },
  {
   "cell_type": "code",
   "execution_count": 31,
   "metadata": {},
   "outputs": [
    {
     "data": {
      "image/png": "[encoded data removed]",
      "text/plain": [
       "<Figure size 432x288 with 1 Axes>"
      ]
     },
     "metadata": {
      "needs_background": "light"
     },
     "output_type": "display_data"
    }
   ],
   "source": [
    "ds['Neigborhood Cluster-55 Level'].plot.hist()\n",
    "plt.show()"
   ]
  },
  {
   "cell_type": "code",
   "execution_count": 32,
   "metadata": {},
   "outputs": [
    {
     "data": {
      "text/plain": [
       "3.144725618424794"
      ]
     },
     "execution_count": 32,
     "metadata": {},
     "output_type": "execute_result"
    }
   ],
   "source": [
    "ds[ds['Neigborhood Cluster-55 Level'].isna()].shape[0] / ds.shape[0] * 100"
   ]
  },
  {
   "cell_type": "code",
   "execution_count": 33,
   "metadata": {},
   "outputs": [],
   "source": [
    "ds.dropna(inplace=True)"
   ]
  },
  {
   "cell_type": "code",
   "execution_count": 34,
   "metadata": {},
   "outputs": [
    {
     "data": {
      "text/plain": [
       "(17032, 13)"
      ]
     },
     "execution_count": 34,
     "metadata": {},
     "output_type": "execute_result"
    }
   ],
   "source": [
    "ds.shape"
   ]
  },
  {
   "cell_type": "markdown",
   "metadata": {},
   "source": [
    "#### On the 'Neigborhood Cluster-55 Level' column I've removed the nulls (about 3% of the data)."
   ]
  },
  {
   "cell_type": "code",
   "execution_count": 35,
   "metadata": {},
   "outputs": [
    {
     "data": {
      "text/plain": [
       "Gender                          0\n",
       "Geographic Region               0\n",
       "Loyalty Status                  0\n",
       "Neigborhood Cluster-55 Level    0\n",
       "Neighborhood Cluster-7 Level    0\n",
       "Affluence Grade                 0\n",
       "Age                             0\n",
       "Frequency                       0\n",
       "Frequency Percent               0\n",
       "Loyalty Card Tenure             0\n",
       "Organics Purchase Count         0\n",
       "Organics Purchase Indicator     0\n",
       "Total Spend                     0\n",
       "dtype: int64"
      ]
     },
     "execution_count": 35,
     "metadata": {},
     "output_type": "execute_result"
    }
   ],
   "source": [
    "ds.isna().sum()"
   ]
  },
  {
   "cell_type": "code",
   "execution_count": 36,
   "metadata": {},
   "outputs": [
    {
     "data": {
      "text/plain": [
       "C    3611\n",
       "D    3462\n",
       "B    3267\n",
       "F    3155\n",
       "E    2069\n",
       "A    1422\n",
       "U      46\n",
       "Name: Neighborhood Cluster-7 Level, dtype: int64"
      ]
     },
     "execution_count": 36,
     "metadata": {},
     "output_type": "execute_result"
    }
   ],
   "source": [
    "ds['Neighborhood Cluster-7 Level'].value_counts()"
   ]
  },
  {
   "cell_type": "code",
   "execution_count": 37,
   "metadata": {},
   "outputs": [
    {
     "data": {
      "text/plain": [
       "0.27007984969469234"
      ]
     },
     "execution_count": 37,
     "metadata": {},
     "output_type": "execute_result"
    }
   ],
   "source": [
    "ds[ds['Neighborhood Cluster-7 Level'] == 'U'].shape[0] / ds.shape[0] * 100"
   ]
  },
  {
   "cell_type": "code",
   "execution_count": 38,
   "metadata": {},
   "outputs": [],
   "source": [
    "ds = ds[ds['Neighborhood Cluster-7 Level'] != 'U']"
   ]
  },
  {
   "cell_type": "code",
   "execution_count": 39,
   "metadata": {},
   "outputs": [
    {
     "data": {
      "text/plain": [
       "(16986, 13)"
      ]
     },
     "execution_count": 39,
     "metadata": {},
     "output_type": "execute_result"
    }
   ],
   "source": [
    "ds.shape"
   ]
  },
  {
   "cell_type": "code",
   "execution_count": 40,
   "metadata": {},
   "outputs": [],
   "source": [
    "le = preprocessing.LabelEncoder()\n",
    "ds['Neighborhood Cluster-7 Level'] = le.fit_transform(ds['Neighborhood Cluster-7 Level'])"
   ]
  },
  {
   "cell_type": "code",
   "execution_count": 41,
   "metadata": {},
   "outputs": [
    {
     "data": {
      "text/plain": [
       "2    3611\n",
       "3    3462\n",
       "1    3267\n",
       "5    3155\n",
       "4    2069\n",
       "0    1422\n",
       "Name: Neighborhood Cluster-7 Level, dtype: int64"
      ]
     },
     "execution_count": 41,
     "metadata": {},
     "output_type": "execute_result"
    }
   ],
   "source": [
    "ds['Neighborhood Cluster-7 Level'].value_counts()"
   ]
  },
  {
   "cell_type": "markdown",
   "metadata": {},
   "source": [
    "#### On the 'Neighborhood Cluster-7 Level' I've removed the unknows (about 0.3% of the data) and converted the categorical data into numeric."
   ]
  },
  {
   "cell_type": "code",
   "execution_count": 42,
   "metadata": {},
   "outputs": [
    {
     "data": {
      "text/plain": [
       "9     1981\n",
       "8     1960\n",
       "7     1919\n",
       "6     1711\n",
       "10    1679\n",
       "11    1295\n",
       "5     1214\n",
       "12     990\n",
       ".      840\n",
       "4      703\n",
       "13     692\n",
       "14     482\n",
       "3      390\n",
       "15     334\n",
       "16     204\n",
       "2      145\n",
       "17     123\n",
       "18      76\n",
       "19      58\n",
       "20      50\n",
       "21      30\n",
       "1       28\n",
       "22      20\n",
       "24      14\n",
       "23      13\n",
       "25      12\n",
       "27       5\n",
       "26       5\n",
       "0        4\n",
       "29       3\n",
       "31       2\n",
       "30       2\n",
       "28       1\n",
       "34       1\n",
       "Name: Affluence Grade, dtype: int64"
      ]
     },
     "execution_count": 42,
     "metadata": {},
     "output_type": "execute_result"
    }
   ],
   "source": [
    "ds['Affluence Grade'].value_counts()"
   ]
  },
  {
   "cell_type": "code",
   "execution_count": 43,
   "metadata": {},
   "outputs": [
    {
     "data": {
      "text/plain": [
       "4.945249028611798"
      ]
     },
     "execution_count": 43,
     "metadata": {},
     "output_type": "execute_result"
    }
   ],
   "source": [
    "ds[ds['Affluence Grade'] == '.'].shape[0] / ds.shape[0] * 100"
   ]
  },
  {
   "cell_type": "code",
   "execution_count": 44,
   "metadata": {},
   "outputs": [],
   "source": [
    "ds = ds[ds['Affluence Grade'] != '.']"
   ]
  },
  {
   "cell_type": "code",
   "execution_count": 45,
   "metadata": {},
   "outputs": [
    {
     "data": {
      "text/plain": [
       "(16146, 13)"
      ]
     },
     "execution_count": 45,
     "metadata": {},
     "output_type": "execute_result"
    }
   ],
   "source": [
    "ds.shape"
   ]
  },
  {
   "cell_type": "code",
   "execution_count": 46,
   "metadata": {},
   "outputs": [],
   "source": [
    "ds['Affluence Grade'] = ds['Affluence Grade'].astype('int')"
   ]
  },
  {
   "cell_type": "code",
   "execution_count": 47,
   "metadata": {},
   "outputs": [
    {
     "data": {
      "text/plain": [
       "Gender                            int32\n",
       "Geographic Region                 int32\n",
       "Loyalty Status                    int32\n",
       "Neigborhood Cluster-55 Level    float64\n",
       "Neighborhood Cluster-7 Level      int32\n",
       "Affluence Grade                   int32\n",
       "Age                              object\n",
       "Frequency                         int64\n",
       "Frequency Percent                object\n",
       "Loyalty Card Tenure              object\n",
       "Organics Purchase Count           int64\n",
       "Organics Purchase Indicator       int64\n",
       "Total Spend                     float64\n",
       "dtype: object"
      ]
     },
     "execution_count": 47,
     "metadata": {},
     "output_type": "execute_result"
    }
   ],
   "source": [
    "ds.dtypes"
   ]
  },
  {
   "cell_type": "code",
   "execution_count": 48,
   "metadata": {},
   "outputs": [
    {
     "data": {
      "text/plain": [
       "count    16146.000000\n",
       "mean         8.832714\n",
       "std          3.477158\n",
       "min          0.000000\n",
       "25%          6.000000\n",
       "50%          8.000000\n",
       "75%         11.000000\n",
       "max         34.000000\n",
       "Name: Affluence Grade, dtype: float64"
      ]
     },
     "execution_count": 48,
     "metadata": {},
     "output_type": "execute_result"
    }
   ],
   "source": [
    "ds['Affluence Grade'].describe()"
   ]
  },
  {
   "cell_type": "code",
   "execution_count": 49,
   "metadata": {},
   "outputs": [
    {
     "data": {
      "image/png": "[encoded data removed]",
      "text/plain": [
       "<Figure size 432x288 with 1 Axes>"
      ]
     },
     "metadata": {
      "needs_background": "light"
     },
     "output_type": "display_data"
    }
   ],
   "source": [
    "ds['Affluence Grade'].plot.hist()\n",
    "plt.show()"
   ]
  },
  {
   "cell_type": "code",
   "execution_count": 50,
   "metadata": {},
   "outputs": [],
   "source": [
    "ds = ds[(ds['Affluence Grade'] != 0) & (ds['Affluence Grade'] != 34)]"
   ]
  },
  {
   "cell_type": "code",
   "execution_count": 51,
   "metadata": {},
   "outputs": [
    {
     "data": {
      "text/plain": [
       "(16141, 13)"
      ]
     },
     "execution_count": 51,
     "metadata": {},
     "output_type": "execute_result"
    }
   ],
   "source": [
    "ds.shape"
   ]
  },
  {
   "cell_type": "code",
   "execution_count": 52,
   "metadata": {},
   "outputs": [
    {
     "data": {
      "image/png": "[encoded data removed]",
      "text/plain": [
       "<Figure size 432x288 with 1 Axes>"
      ]
     },
     "metadata": {
      "needs_background": "light"
     },
     "output_type": "display_data"
    }
   ],
   "source": [
    "ds['Affluence Grade'].plot.hist()\n",
    "plt.show()"
   ]
  },
  {
   "cell_type": "markdown",
   "metadata": {},
   "source": [
    "#### On the 'Affluence Grade' column I've remove the rows with '.' (about 5% of the data), then change the type to integer. Finally removed the rows with '0' and '34' as the the scale in from 1 to 30, so these are probably outliers."
   ]
  },
  {
   "cell_type": "code",
   "execution_count": 53,
   "metadata": {},
   "outputs": [
    {
     "data": {
      "text/plain": [
       ".     1071\n",
       "51     459\n",
       "50     415\n",
       "47     386\n",
       "53     385\n",
       "      ... \n",
       "23      15\n",
       "20       8\n",
       "21       6\n",
       "18       4\n",
       "19       4\n",
       "Name: Age, Length: 63, dtype: int64"
      ]
     },
     "execution_count": 53,
     "metadata": {},
     "output_type": "execute_result"
    }
   ],
   "source": [
    "ds['Age'].value_counts()"
   ]
  },
  {
   "cell_type": "code",
   "execution_count": 54,
   "metadata": {},
   "outputs": [
    {
     "data": {
      "text/plain": [
       "6.6352766247444395"
      ]
     },
     "execution_count": 54,
     "metadata": {},
     "output_type": "execute_result"
    }
   ],
   "source": [
    "ds[ds['Age'] == '.'].shape[0] / ds.shape[0] * 100"
   ]
  },
  {
   "cell_type": "code",
   "execution_count": 55,
   "metadata": {},
   "outputs": [],
   "source": [
    "ds = ds[ds['Age'] != '.']"
   ]
  },
  {
   "cell_type": "code",
   "execution_count": 56,
   "metadata": {},
   "outputs": [
    {
     "data": {
      "text/plain": [
       "(15070, 13)"
      ]
     },
     "execution_count": 56,
     "metadata": {},
     "output_type": "execute_result"
    }
   ],
   "source": [
    "ds.shape"
   ]
  },
  {
   "cell_type": "code",
   "execution_count": 57,
   "metadata": {},
   "outputs": [],
   "source": [
    "ds['Age'] = ds['Age'].astype('int')"
   ]
  },
  {
   "cell_type": "code",
   "execution_count": 58,
   "metadata": {},
   "outputs": [
    {
     "data": {
      "text/plain": [
       "Gender                            int32\n",
       "Geographic Region                 int32\n",
       "Loyalty Status                    int32\n",
       "Neigborhood Cluster-55 Level    float64\n",
       "Neighborhood Cluster-7 Level      int32\n",
       "Affluence Grade                   int32\n",
       "Age                               int32\n",
       "Frequency                         int64\n",
       "Frequency Percent                object\n",
       "Loyalty Card Tenure              object\n",
       "Organics Purchase Count           int64\n",
       "Organics Purchase Indicator       int64\n",
       "Total Spend                     float64\n",
       "dtype: object"
      ]
     },
     "execution_count": 58,
     "metadata": {},
     "output_type": "execute_result"
    }
   ],
   "source": [
    "ds.dtypes"
   ]
  },
  {
   "cell_type": "code",
   "execution_count": 59,
   "metadata": {},
   "outputs": [
    {
     "data": {
      "text/plain": [
       "count    15070.000000\n",
       "mean        53.508427\n",
       "std         13.305206\n",
       "min         18.000000\n",
       "25%         43.000000\n",
       "50%         53.000000\n",
       "75%         64.000000\n",
       "max         79.000000\n",
       "Name: Age, dtype: float64"
      ]
     },
     "execution_count": 59,
     "metadata": {},
     "output_type": "execute_result"
    }
   ],
   "source": [
    "ds['Age'].describe()"
   ]
  },
  {
   "cell_type": "code",
   "execution_count": 60,
   "metadata": {},
   "outputs": [
    {
     "data": {
      "image/png": "[encoded data removed]",
      "text/plain": [
       "<Figure size 432x288 with 1 Axes>"
      ]
     },
     "metadata": {
      "needs_background": "light"
     },
     "output_type": "display_data"
    }
   ],
   "source": [
    "ds['Age'].plot.hist()\n",
    "plt.show()"
   ]
  },
  {
   "cell_type": "markdown",
   "metadata": {},
   "source": [
    "#### On the 'Age' column I've remove the rows with '.' (about 6% of the data) and then change the type to integer."
   ]
  },
  {
   "cell_type": "code",
   "execution_count": 61,
   "metadata": {},
   "outputs": [
    {
     "data": {
      "text/plain": [
       "1    15070\n",
       "Name: Frequency, dtype: int64"
      ]
     },
     "execution_count": 61,
     "metadata": {},
     "output_type": "execute_result"
    }
   ],
   "source": [
    "ds['Frequency'].value_counts()"
   ]
  },
  {
   "cell_type": "code",
   "execution_count": 62,
   "metadata": {},
   "outputs": [
    {
     "data": {
      "text/plain": [
       "0.00%    15070\n",
       "Name: Frequency Percent, dtype: int64"
      ]
     },
     "execution_count": 62,
     "metadata": {},
     "output_type": "execute_result"
    }
   ],
   "source": [
    "ds['Frequency Percent'].value_counts()"
   ]
  },
  {
   "cell_type": "code",
   "execution_count": 63,
   "metadata": {},
   "outputs": [],
   "source": [
    "ds.drop(columns=['Frequency', 'Frequency Percent'], inplace=True)"
   ]
  },
  {
   "cell_type": "code",
   "execution_count": 64,
   "metadata": {},
   "outputs": [
    {
     "data": {
      "text/plain": [
       "(15070, 11)"
      ]
     },
     "execution_count": 64,
     "metadata": {},
     "output_type": "execute_result"
    }
   ],
   "source": [
    "ds.shape"
   ]
  },
  {
   "cell_type": "markdown",
   "metadata": {},
   "source": [
    "#### I've dropped the columns 'Frequency' and 'Frequency Percent' as they are meaningless. "
   ]
  },
  {
   "cell_type": "code",
   "execution_count": 65,
   "metadata": {},
   "outputs": [
    {
     "data": {
      "text/plain": [
       "5     2982\n",
       "8     2198\n",
       "4     1834\n",
       "1     1128\n",
       "9     1104\n",
       "2     1042\n",
       "7      946\n",
       "6      804\n",
       "3      733\n",
       "11     456\n",
       "10     385\n",
       "12     277\n",
       ".      175\n",
       "13     134\n",
       "16      96\n",
       "14      94\n",
       "15      84\n",
       "18      68\n",
       "17      60\n",
       "21      56\n",
       "19      50\n",
       "27      36\n",
       "0       36\n",
       "26      30\n",
       "20      30\n",
       "31      28\n",
       "24      28\n",
       "29      28\n",
       "25      26\n",
       "30      25\n",
       "23      25\n",
       "32      23\n",
       "22      21\n",
       "28      18\n",
       "35       4\n",
       "33       3\n",
       "38       1\n",
       "34       1\n",
       "36       1\n",
       "Name: Loyalty Card Tenure, dtype: int64"
      ]
     },
     "execution_count": 65,
     "metadata": {},
     "output_type": "execute_result"
    }
   ],
   "source": [
    "ds['Loyalty Card Tenure'].value_counts()"
   ]
  },
  {
   "cell_type": "code",
   "execution_count": 66,
   "metadata": {},
   "outputs": [
    {
     "data": {
      "text/plain": [
       "1.1612475116124752"
      ]
     },
     "execution_count": 66,
     "metadata": {},
     "output_type": "execute_result"
    }
   ],
   "source": [
    "ds[ds['Loyalty Card Tenure'] == '.'].shape[0] / ds.shape[0] * 100"
   ]
  },
  {
   "cell_type": "code",
   "execution_count": 67,
   "metadata": {},
   "outputs": [],
   "source": [
    "ds = ds[ds['Loyalty Card Tenure'] != '.']"
   ]
  },
  {
   "cell_type": "code",
   "execution_count": 68,
   "metadata": {},
   "outputs": [
    {
     "data": {
      "text/plain": [
       "(14895, 11)"
      ]
     },
     "execution_count": 68,
     "metadata": {},
     "output_type": "execute_result"
    }
   ],
   "source": [
    "ds.shape"
   ]
  },
  {
   "cell_type": "code",
   "execution_count": 69,
   "metadata": {},
   "outputs": [],
   "source": [
    "ds['Loyalty Card Tenure'] = ds['Loyalty Card Tenure'].astype('int')"
   ]
  },
  {
   "cell_type": "code",
   "execution_count": 70,
   "metadata": {},
   "outputs": [
    {
     "data": {
      "text/plain": [
       "Gender                            int32\n",
       "Geographic Region                 int32\n",
       "Loyalty Status                    int32\n",
       "Neigborhood Cluster-55 Level    float64\n",
       "Neighborhood Cluster-7 Level      int32\n",
       "Affluence Grade                   int32\n",
       "Age                               int32\n",
       "Loyalty Card Tenure               int32\n",
       "Organics Purchase Count           int64\n",
       "Organics Purchase Indicator       int64\n",
       "Total Spend                     float64\n",
       "dtype: object"
      ]
     },
     "execution_count": 70,
     "metadata": {},
     "output_type": "execute_result"
    }
   ],
   "source": [
    "ds.dtypes"
   ]
  },
  {
   "cell_type": "markdown",
   "metadata": {},
   "source": [
    "#### On the 'Loyalty Card Tenure' column I've remove the rows with '.' (about 1% of the data) and then change the type to integer."
   ]
  },
  {
   "cell_type": "code",
   "execution_count": 71,
   "metadata": {},
   "outputs": [
    {
     "data": {
      "text/plain": [
       "count    14895.000000\n",
       "mean         0.336623\n",
       "std          0.588266\n",
       "min          0.000000\n",
       "25%          0.000000\n",
       "50%          0.000000\n",
       "75%          1.000000\n",
       "max          3.000000\n",
       "Name: Organics Purchase Count, dtype: float64"
      ]
     },
     "execution_count": 71,
     "metadata": {},
     "output_type": "execute_result"
    }
   ],
   "source": [
    "ds['Organics Purchase Count'].describe()"
   ]
  },
  {
   "cell_type": "code",
   "execution_count": 72,
   "metadata": {},
   "outputs": [
    {
     "data": {
      "image/png": "[encoded data removed]",
      "text/plain": [
       "<Figure size 432x288 with 1 Axes>"
      ]
     },
     "metadata": {
      "needs_background": "light"
     },
     "output_type": "display_data"
    }
   ],
   "source": [
    "ds['Organics Purchase Count'].plot.hist()\n",
    "plt.show()"
   ]
  },
  {
   "cell_type": "markdown",
   "metadata": {},
   "source": [
    "#### On the column 'Organics Purchase Count' no cleaning needed. This column might work as target for classification model, I'll see later."
   ]
  },
  {
   "cell_type": "code",
   "execution_count": 73,
   "metadata": {},
   "outputs": [
    {
     "data": {
      "text/plain": [
       "0    0.716348\n",
       "1    0.283652\n",
       "Name: Organics Purchase Indicator, dtype: float64"
      ]
     },
     "execution_count": 73,
     "metadata": {},
     "output_type": "execute_result"
    }
   ],
   "source": [
    "ds['Organics Purchase Indicator'].value_counts(normalize=True)"
   ]
  },
  {
   "cell_type": "markdown",
   "metadata": {},
   "source": [
    "#### On the column 'Organics Purchase Indicator' no cleaning needed. This column is the main target for classification model that I will try."
   ]
  },
  {
   "cell_type": "code",
   "execution_count": 74,
   "metadata": {},
   "outputs": [
    {
     "data": {
      "text/plain": [
       "count     14895.000000\n",
       "mean       4429.429847\n",
       "std        7573.182699\n",
       "min           0.010000\n",
       "25%           0.010000\n",
       "50%        2000.000000\n",
       "75%        6000.000000\n",
       "max      296313.850000\n",
       "Name: Total Spend, dtype: float64"
      ]
     },
     "execution_count": 74,
     "metadata": {},
     "output_type": "execute_result"
    }
   ],
   "source": [
    "ds['Total Spend'].describe()"
   ]
  },
  {
   "cell_type": "code",
   "execution_count": 75,
   "metadata": {},
   "outputs": [
    {
     "data": {
      "image/png": "[encoded data removed]",
      "text/plain": [
       "<Figure size 432x288 with 1 Axes>"
      ]
     },
     "metadata": {
      "needs_background": "light"
     },
     "output_type": "display_data"
    }
   ],
   "source": [
    "ds['Total Spend'].plot.hist()\n",
    "plt.show()"
   ]
  },
  {
   "cell_type": "code",
   "execution_count": 76,
   "metadata": {},
   "outputs": [],
   "source": [
    "total_spend = ds['Total Spend']"
   ]
  },
  {
   "cell_type": "code",
   "execution_count": 77,
   "metadata": {},
   "outputs": [],
   "source": [
    "total_spend = total_spend.sort_values()"
   ]
  },
  {
   "cell_type": "code",
   "execution_count": 93,
   "metadata": {},
   "outputs": [
    {
     "data": {
      "text/plain": [
       "14895"
      ]
     },
     "execution_count": 93,
     "metadata": {},
     "output_type": "execute_result"
    }
   ],
   "source": [
    "len(total_spend)"
   ]
  },
  {
   "cell_type": "code",
   "execution_count": 94,
   "metadata": {},
   "outputs": [
    {
     "data": {
      "image/png": "[encoded data removed]",
      "text/plain": [
       "<Figure size 432x288 with 1 Axes>"
      ]
     },
     "metadata": {
      "needs_background": "light"
     },
     "output_type": "display_data"
    }
   ],
   "source": [
    "plt.scatter(total_spend, range(14895))\n",
    "plt.show()"
   ]
  },
  {
   "cell_type": "code",
   "execution_count": 97,
   "metadata": {},
   "outputs": [
    {
     "data": {
      "image/png": "[encoded data removed]",
      "text/plain": [
       "<Figure size 432x288 with 1 Axes>"
      ]
     },
     "metadata": {
      "needs_background": "light"
     },
     "output_type": "display_data"
    }
   ],
   "source": [
    "ds.boxplot(['Total Spend'])\n",
    "plt.show()"
   ]
  },
  {
   "cell_type": "code",
   "execution_count": 106,
   "metadata": {},
   "outputs": [
    {
     "data": {
      "text/plain": [
       "14999.985"
      ]
     },
     "execution_count": 106,
     "metadata": {},
     "output_type": "execute_result"
    }
   ],
   "source": [
    "ds['Total Spend'].quantile(0.75) + 1.5 * (ds['Total Spend'].quantile(0.75) - ds['Total Spend'].quantile(0.25))"
   ]
  },
  {
   "cell_type": "code",
   "execution_count": 110,
   "metadata": {},
   "outputs": [
    {
     "data": {
      "text/plain": [
       "(987, 11)"
      ]
     },
     "execution_count": 110,
     "metadata": {},
     "output_type": "execute_result"
    }
   ],
   "source": [
    "ds[ds['Total Spend'] > 14999.985].shape"
   ]
  },
  {
   "cell_type": "code",
   "execution_count": 109,
   "metadata": {},
   "outputs": [
    {
     "data": {
      "text/plain": [
       "6.62638469284995"
      ]
     },
     "execution_count": 109,
     "metadata": {},
     "output_type": "execute_result"
    }
   ],
   "source": [
    "987 / ds.shape[0] * 100"
   ]
  },
  {
   "cell_type": "code",
   "execution_count": 152,
   "metadata": {},
   "outputs": [
    {
     "data": {
      "text/plain": [
       "(6, 11)"
      ]
     },
     "execution_count": 152,
     "metadata": {},
     "output_type": "execute_result"
    }
   ],
   "source": [
    "ds[ds['Total Spend'] > 81000].shape"
   ]
  },
  {
   "cell_type": "markdown",
   "metadata": {},
   "source": [
    "#### Regarding the 'Total Spend' columns, although there are many outliers (about 7%) I will not remove them by now, because they make sense in this context."
   ]
  },
  {
   "cell_type": "code",
   "execution_count": 153,
   "metadata": {},
   "outputs": [
    {
     "data": {
      "text/html": [
       "<div>\n",
       "<style scoped>\n",
       "    .dataframe tbody tr th:only-of-type {\n",
       "        vertical-align: middle;\n",
       "    }\n",
       "\n",
       "    .dataframe tbody tr th {\n",
       "        vertical-align: top;\n",
       "    }\n",
       "\n",
       "    .dataframe thead th {\n",
       "        text-align: right;\n",
       "    }\n",
       "</style>\n",
       "<table border=\"1\" class=\"dataframe\">\n",
       "  <thead>\n",
       "    <tr style=\"text-align: right;\">\n",
       "      <th></th>\n",
       "      <th>Gender</th>\n",
       "      <th>Geographic Region</th>\n",
       "      <th>Loyalty Status</th>\n",
       "      <th>Neigborhood Cluster-55 Level</th>\n",
       "      <th>Neighborhood Cluster-7 Level</th>\n",
       "      <th>Affluence Grade</th>\n",
       "      <th>Age</th>\n",
       "      <th>Loyalty Card Tenure</th>\n",
       "      <th>Organics Purchase Count</th>\n",
       "      <th>Organics Purchase Indicator</th>\n",
       "      <th>Total Spend</th>\n",
       "    </tr>\n",
       "  </thead>\n",
       "  <tbody>\n",
       "    <tr>\n",
       "      <th>2</th>\n",
       "      <td>0</td>\n",
       "      <td>0</td>\n",
       "      <td>2</td>\n",
       "      <td>27.0</td>\n",
       "      <td>3</td>\n",
       "      <td>5</td>\n",
       "      <td>70</td>\n",
       "      <td>8</td>\n",
       "      <td>1</td>\n",
       "      <td>1</td>\n",
       "      <td>0.02</td>\n",
       "    </tr>\n",
       "    <tr>\n",
       "      <th>3</th>\n",
       "      <td>1</td>\n",
       "      <td>0</td>\n",
       "      <td>3</td>\n",
       "      <td>51.0</td>\n",
       "      <td>5</td>\n",
       "      <td>10</td>\n",
       "      <td>65</td>\n",
       "      <td>7</td>\n",
       "      <td>1</td>\n",
       "      <td>1</td>\n",
       "      <td>0.01</td>\n",
       "    </tr>\n",
       "    <tr>\n",
       "      <th>4</th>\n",
       "      <td>0</td>\n",
       "      <td>0</td>\n",
       "      <td>3</td>\n",
       "      <td>4.0</td>\n",
       "      <td>0</td>\n",
       "      <td>11</td>\n",
       "      <td>68</td>\n",
       "      <td>8</td>\n",
       "      <td>0</td>\n",
       "      <td>0</td>\n",
       "      <td>0.01</td>\n",
       "    </tr>\n",
       "    <tr>\n",
       "      <th>6</th>\n",
       "      <td>0</td>\n",
       "      <td>0</td>\n",
       "      <td>3</td>\n",
       "      <td>3.0</td>\n",
       "      <td>0</td>\n",
       "      <td>11</td>\n",
       "      <td>74</td>\n",
       "      <td>8</td>\n",
       "      <td>0</td>\n",
       "      <td>0</td>\n",
       "      <td>0.01</td>\n",
       "    </tr>\n",
       "    <tr>\n",
       "      <th>7</th>\n",
       "      <td>1</td>\n",
       "      <td>1</td>\n",
       "      <td>3</td>\n",
       "      <td>32.0</td>\n",
       "      <td>3</td>\n",
       "      <td>13</td>\n",
       "      <td>62</td>\n",
       "      <td>5</td>\n",
       "      <td>0</td>\n",
       "      <td>0</td>\n",
       "      <td>0.01</td>\n",
       "    </tr>\n",
       "  </tbody>\n",
       "</table>\n",
       "</div>"
      ],
      "text/plain": [
       "   Gender  Geographic Region  Loyalty Status  Neigborhood Cluster-55 Level  \\\n",
       "2       0                  0               2                          27.0   \n",
       "3       1                  0               3                          51.0   \n",
       "4       0                  0               3                           4.0   \n",
       "6       0                  0               3                           3.0   \n",
       "7       1                  1               3                          32.0   \n",
       "\n",
       "   Neighborhood Cluster-7 Level  Affluence Grade  Age  Loyalty Card Tenure  \\\n",
       "2                             3                5   70                    8   \n",
       "3                             5               10   65                    7   \n",
       "4                             0               11   68                    8   \n",
       "6                             0               11   74                    8   \n",
       "7                             3               13   62                    5   \n",
       "\n",
       "   Organics Purchase Count  Organics Purchase Indicator  Total Spend  \n",
       "2                        1                            1         0.02  \n",
       "3                        1                            1         0.01  \n",
       "4                        0                            0         0.01  \n",
       "6                        0                            0         0.01  \n",
       "7                        0                            0         0.01  "
      ]
     },
     "execution_count": 153,
     "metadata": {},
     "output_type": "execute_result"
    }
   ],
   "source": [
    "ds.head()"
   ]
  },
  {
   "cell_type": "code",
   "execution_count": 154,
   "metadata": {},
   "outputs": [],
   "source": [
    "ds.reset_index(drop=True, inplace=True)"
   ]
  },
  {
   "cell_type": "code",
   "execution_count": 155,
   "metadata": {},
   "outputs": [
    {
     "data": {
      "text/html": [
       "<div>\n",
       "<style scoped>\n",
       "    .dataframe tbody tr th:only-of-type {\n",
       "        vertical-align: middle;\n",
       "    }\n",
       "\n",
       "    .dataframe tbody tr th {\n",
       "        vertical-align: top;\n",
       "    }\n",
       "\n",
       "    .dataframe thead th {\n",
       "        text-align: right;\n",
       "    }\n",
       "</style>\n",
       "<table border=\"1\" class=\"dataframe\">\n",
       "  <thead>\n",
       "    <tr style=\"text-align: right;\">\n",
       "      <th></th>\n",
       "      <th>Gender</th>\n",
       "      <th>Geographic Region</th>\n",
       "      <th>Loyalty Status</th>\n",
       "      <th>Neigborhood Cluster-55 Level</th>\n",
       "      <th>Neighborhood Cluster-7 Level</th>\n",
       "      <th>Affluence Grade</th>\n",
       "      <th>Age</th>\n",
       "      <th>Loyalty Card Tenure</th>\n",
       "      <th>Organics Purchase Count</th>\n",
       "      <th>Organics Purchase Indicator</th>\n",
       "      <th>Total Spend</th>\n",
       "    </tr>\n",
       "  </thead>\n",
       "  <tbody>\n",
       "    <tr>\n",
       "      <th>0</th>\n",
       "      <td>0</td>\n",
       "      <td>0</td>\n",
       "      <td>2</td>\n",
       "      <td>27.0</td>\n",
       "      <td>3</td>\n",
       "      <td>5</td>\n",
       "      <td>70</td>\n",
       "      <td>8</td>\n",
       "      <td>1</td>\n",
       "      <td>1</td>\n",
       "      <td>0.02</td>\n",
       "    </tr>\n",
       "    <tr>\n",
       "      <th>1</th>\n",
       "      <td>1</td>\n",
       "      <td>0</td>\n",
       "      <td>3</td>\n",
       "      <td>51.0</td>\n",
       "      <td>5</td>\n",
       "      <td>10</td>\n",
       "      <td>65</td>\n",
       "      <td>7</td>\n",
       "      <td>1</td>\n",
       "      <td>1</td>\n",
       "      <td>0.01</td>\n",
       "    </tr>\n",
       "    <tr>\n",
       "      <th>2</th>\n",
       "      <td>0</td>\n",
       "      <td>0</td>\n",
       "      <td>3</td>\n",
       "      <td>4.0</td>\n",
       "      <td>0</td>\n",
       "      <td>11</td>\n",
       "      <td>68</td>\n",
       "      <td>8</td>\n",
       "      <td>0</td>\n",
       "      <td>0</td>\n",
       "      <td>0.01</td>\n",
       "    </tr>\n",
       "    <tr>\n",
       "      <th>3</th>\n",
       "      <td>0</td>\n",
       "      <td>0</td>\n",
       "      <td>3</td>\n",
       "      <td>3.0</td>\n",
       "      <td>0</td>\n",
       "      <td>11</td>\n",
       "      <td>74</td>\n",
       "      <td>8</td>\n",
       "      <td>0</td>\n",
       "      <td>0</td>\n",
       "      <td>0.01</td>\n",
       "    </tr>\n",
       "    <tr>\n",
       "      <th>4</th>\n",
       "      <td>1</td>\n",
       "      <td>1</td>\n",
       "      <td>3</td>\n",
       "      <td>32.0</td>\n",
       "      <td>3</td>\n",
       "      <td>13</td>\n",
       "      <td>62</td>\n",
       "      <td>5</td>\n",
       "      <td>0</td>\n",
       "      <td>0</td>\n",
       "      <td>0.01</td>\n",
       "    </tr>\n",
       "  </tbody>\n",
       "</table>\n",
       "</div>"
      ],
      "text/plain": [
       "   Gender  Geographic Region  Loyalty Status  Neigborhood Cluster-55 Level  \\\n",
       "0       0                  0               2                          27.0   \n",
       "1       1                  0               3                          51.0   \n",
       "2       0                  0               3                           4.0   \n",
       "3       0                  0               3                           3.0   \n",
       "4       1                  1               3                          32.0   \n",
       "\n",
       "   Neighborhood Cluster-7 Level  Affluence Grade  Age  Loyalty Card Tenure  \\\n",
       "0                             3                5   70                    8   \n",
       "1                             5               10   65                    7   \n",
       "2                             0               11   68                    8   \n",
       "3                             0               11   74                    8   \n",
       "4                             3               13   62                    5   \n",
       "\n",
       "   Organics Purchase Count  Organics Purchase Indicator  Total Spend  \n",
       "0                        1                            1         0.02  \n",
       "1                        1                            1         0.01  \n",
       "2                        0                            0         0.01  \n",
       "3                        0                            0         0.01  \n",
       "4                        0                            0         0.01  "
      ]
     },
     "execution_count": 155,
     "metadata": {},
     "output_type": "execute_result"
    }
   ],
   "source": [
    "ds.head()"
   ]
  },
  {
   "cell_type": "code",
   "execution_count": 159,
   "metadata": {},
   "outputs": [
    {
     "data": {
      "text/plain": [
       "Gender                            int32\n",
       "Geographic Region                 int32\n",
       "Loyalty Status                    int32\n",
       "Neigborhood Cluster-55 Level    float64\n",
       "Neighborhood Cluster-7 Level      int32\n",
       "Affluence Grade                   int32\n",
       "Age                               int32\n",
       "Loyalty Card Tenure               int32\n",
       "Organics Purchase Count           int64\n",
       "Organics Purchase Indicator       int64\n",
       "Total Spend                     float64\n",
       "dtype: object"
      ]
     },
     "execution_count": 159,
     "metadata": {},
     "output_type": "execute_result"
    }
   ],
   "source": [
    "ds.dtypes"
   ]
  },
  {
   "cell_type": "code",
   "execution_count": 156,
   "metadata": {},
   "outputs": [
    {
     "data": {
      "text/plain": [
       "(14895, 11)"
      ]
     },
     "execution_count": 156,
     "metadata": {},
     "output_type": "execute_result"
    }
   ],
   "source": [
    "ds.shape"
   ]
  },
  {
   "cell_type": "code",
   "execution_count": 157,
   "metadata": {},
   "outputs": [
    {
     "data": {
      "text/plain": [
       "32.974845880394184"
      ]
     },
     "execution_count": 157,
     "metadata": {},
     "output_type": "execute_result"
    }
   ],
   "source": [
    "(22223 - 14895) / 22223 * 100"
   ]
  },
  {
   "cell_type": "markdown",
   "metadata": {},
   "source": [
    "#### I have removed about 33% of the data but I still have  14895 entries."
   ]
  },
  {
   "cell_type": "code",
   "execution_count": 161,
   "metadata": {},
   "outputs": [],
   "source": [
    "ds.to_csv('organics_clean.csv')"
   ]
  },
  {
   "cell_type": "code",
   "execution_count": null,
   "metadata": {},
   "outputs": [],
   "source": []
  }
 ],
 "metadata": {
  "kernelspec": {
   "display_name": "Python 3",
   "language": "python",
   "name": "python3"
  },
  "language_info": {
   "codemirror_mode": {
    "name": "ipython",
    "version": 3
   },
   "file_extension": ".py",
   "mimetype": "text/x-python",
   "name": "python",
   "nbconvert_exporter": "python",
   "pygments_lexer": "ipython3",
   "version": "3.7.4"
  }
 },
 "nbformat": 4,
 "nbformat_minor": 2
}
